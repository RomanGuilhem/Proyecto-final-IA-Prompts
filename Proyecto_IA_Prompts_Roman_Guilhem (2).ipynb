{
  "nbformat": 4,
  "nbformat_minor": 0,
  "metadata": {
    "colab": {
      "provenance": []
    },
    "kernelspec": {
      "name": "python3",
      "display_name": "Python 3"
    },
    "language_info": {
      "name": "python"
    }
  },
  "cells": [
    {
      "cell_type": "code",
      "source": [
        "!pip install openai==0.28"
      ],
      "metadata": {
        "colab": {
          "base_uri": "https://localhost:8080/"
        },
        "id": "pj-m5O529PR9",
        "outputId": "e7325c97-fcf0-4420-e52f-69511329560c"
      },
      "execution_count": null,
      "outputs": [
        {
          "output_type": "stream",
          "name": "stdout",
          "text": [
            "Requirement already satisfied: openai==0.28 in /usr/local/lib/python3.10/dist-packages (0.28.0)\n",
            "Requirement already satisfied: requests>=2.20 in /usr/local/lib/python3.10/dist-packages (from openai==0.28) (2.32.3)\n",
            "Requirement already satisfied: tqdm in /usr/local/lib/python3.10/dist-packages (from openai==0.28) (4.66.5)\n",
            "Requirement already satisfied: aiohttp in /usr/local/lib/python3.10/dist-packages (from openai==0.28) (3.10.3)\n",
            "Requirement already satisfied: charset-normalizer<4,>=2 in /usr/local/lib/python3.10/dist-packages (from requests>=2.20->openai==0.28) (3.3.2)\n",
            "Requirement already satisfied: idna<4,>=2.5 in /usr/local/lib/python3.10/dist-packages (from requests>=2.20->openai==0.28) (3.7)\n",
            "Requirement already satisfied: urllib3<3,>=1.21.1 in /usr/local/lib/python3.10/dist-packages (from requests>=2.20->openai==0.28) (2.0.7)\n",
            "Requirement already satisfied: certifi>=2017.4.17 in /usr/local/lib/python3.10/dist-packages (from requests>=2.20->openai==0.28) (2024.7.4)\n",
            "Requirement already satisfied: aiohappyeyeballs>=2.3.0 in /usr/local/lib/python3.10/dist-packages (from aiohttp->openai==0.28) (2.3.5)\n",
            "Requirement already satisfied: aiosignal>=1.1.2 in /usr/local/lib/python3.10/dist-packages (from aiohttp->openai==0.28) (1.3.1)\n",
            "Requirement already satisfied: attrs>=17.3.0 in /usr/local/lib/python3.10/dist-packages (from aiohttp->openai==0.28) (24.2.0)\n",
            "Requirement already satisfied: frozenlist>=1.1.1 in /usr/local/lib/python3.10/dist-packages (from aiohttp->openai==0.28) (1.4.1)\n",
            "Requirement already satisfied: multidict<7.0,>=4.5 in /usr/local/lib/python3.10/dist-packages (from aiohttp->openai==0.28) (6.0.5)\n",
            "Requirement already satisfied: yarl<2.0,>=1.0 in /usr/local/lib/python3.10/dist-packages (from aiohttp->openai==0.28) (1.9.4)\n",
            "Requirement already satisfied: async-timeout<5.0,>=4.0 in /usr/local/lib/python3.10/dist-packages (from aiohttp->openai==0.28) (4.0.3)\n"
          ]
        }
      ]
    },
    {
      "cell_type": "code",
      "source": [
        "import openai\n",
        "\n",
        "# Configuración del API de OpenAI\n",
        "openai.api_key = ''\n"
      ],
      "metadata": {
        "id": "pmcfE0BK9JCB"
      },
      "execution_count": null,
      "outputs": []
    },
    {
      "cell_type": "code",
      "source": [
        "# Función para generar un pedido personalizado de café\n",
        "def generar_pedido_personalizado(contexto, preferencias):\n",
        "    # Crear el prompt basado en las preferencias del usuario\n",
        "    prompt = f\"Describe tus preferencias de café, incluyendo tipo de café, tamaño y tipo de leche: {preferencias}\"\n",
        "\n",
        "    # Estructurar la conversación con el sistema y el usuario\n",
        "    messages = [\n",
        "        {\"role\": \"system\", \"content\": contexto},\n",
        "        {\"role\": \"user\", \"content\": prompt}\n",
        "    ]\n",
        "\n",
        "    # Enviar la solicitud al modelo de IA para generar una respuesta\n",
        "    response = openai.ChatCompletion.create(\n",
        "        model=\"gpt-3.5-turbo\",\n",
        "        messages=messages,\n",
        "        max_tokens=5,\n",
        "        temperature=0\n",
        "    )\n",
        "\n",
        "    # Retornar la respuesta generada\n",
        "    return response['choices'][0]['message']['content'].strip()\n",
        "\n",
        "# Contexto que describe el rol del asistente\n",
        "contexto_asistente = \"Eres un asistente que ayuda a los clientes a personalizar sus pedidos de café.\"\n",
        "\n",
        "# Ejemplo de preferencias del cliente\n",
        "preferencias_cliente = \"cafe cortado de tamaño grande con leche de vaca\"\n",
        "\n",
        "# Generar y mostrar el pedido personalizado\n",
        "pedido_personalizado = generar_pedido_personalizado(contexto_asistente, preferencias_cliente)\n",
        "print(pedido_personalizado)\n",
        "\n"
      ],
      "metadata": {
        "collapsed": true,
        "id": "EDWdwKzrGUzY"
      },
      "execution_count": null,
      "outputs": []
    },
    {
      "cell_type": "code",
      "source": [
        "def generar_imagen_producto(descripcion):\n",
        "    response = openai.Image.create(\n",
        "        prompt=descripcion,\n",
        "        n=1,\n",
        "        size=\"1024x1024\"\n",
        "    )\n",
        "    return response['data'][0]['url']\n",
        "\n",
        "# Llamar a la función y asignar el resultado a la variable\n",
        "imagen_cafe = generar_imagen_producto(\"Café latte con leche de almendra y extra shot de espresso\")\n",
        "\n",
        "# Imprimir la URL de la imagen generada\n",
        "print(imagen_cafe)\n"
      ],
      "metadata": {
        "collapsed": true,
        "id": "lE08lfu8NIkV"
      },
      "execution_count": null,
      "outputs": []
    },
    {
      "cell_type": "code",
      "source": [
        "import numpy as np\n",
        "\n",
        "# Datos simulados de satisfacción del cliente antes y después de la implementación\n",
        "categorias = ['Personalización Baja', 'Personalización Alta']\n",
        "satisfaccion_antes = [65, 70]  # porcentaje de satisfacción antes de la implementación\n",
        "satisfaccion_despues = [85, 95]  # porcentaje de satisfacción después de la implementación\n",
        "\n",
        "# Configuración del gráfico\n",
        "fig, ax = plt.subplots(figsize=(8, 5))\n",
        "bar_width = 0.35\n",
        "index = np.arange(len(categorias))\n",
        "\n",
        "# Crear barras\n",
        "bar1 = ax.bar(index, satisfaccion_antes, bar_width, label='Antes', color='skyblue')\n",
        "bar2 = ax.bar(index + bar_width, satisfaccion_despues, bar_width, label='Después', color='orange')\n",
        "\n",
        "# Añadir etiquetas y título\n",
        "ax.set_xlabel('Nivel de Personalización')\n",
        "ax.set_ylabel('Porcentaje de Satisfacción (%)')\n",
        "ax.set_title('Impacto de la Personalización en la Satisfacción del Cliente')\n",
        "ax.set_xticks(index + bar_width / 2)\n",
        "ax.set_xticklabels(categorias)\n",
        "ax.legend()\n",
        "\n",
        "# Añadir los porcentajes en las barras\n",
        "for rect in bar1:\n",
        "    height = rect.get_height()\n",
        "    ax.annotate(f'{height}%',\n",
        "                xy=(rect.get_x() + rect.get_width() / 2, height),\n",
        "                xytext=(0, 3),  # 3 puntos de desplazamiento vertical\n",
        "                textcoords=\"offset points\",\n",
        "                ha='center', va='bottom')\n",
        "\n",
        "for rect in bar2:\n",
        "    height = rect.get_height()\n",
        "    ax.annotate(f'{height}%',\n",
        "                xy=(rect.get_x() + rect.get_width() / 2, height),\n",
        "                xytext=(0, 3),  # 3 puntos de desplazamiento vertical\n",
        "                textcoords=\"offset points\",\n",
        "                ha='center', va='bottom')\n",
        "\n",
        "plt.tight_layout()\n",
        "plt.show()\n"
      ],
      "metadata": {
        "id": "7GrBJjPyPQBj"
      },
      "execution_count": null,
      "outputs": []
    }
  ]
}